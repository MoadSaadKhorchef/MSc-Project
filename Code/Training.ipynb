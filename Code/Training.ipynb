{
 "cells": [
  {
   "cell_type": "code",
   "execution_count": 1,
   "metadata": {},
   "outputs": [
    {
     "name": "stdout",
     "output_type": "stream",
     "text": [
      "Collecting torchinfo\n",
      "  Downloading torchinfo-1.5.2-py3-none-any.whl (18 kB)\n",
      "Installing collected packages: torchinfo\n",
      "Successfully installed torchinfo-1.5.2\n"
     ]
    }
   ],
   "source": [
    "!pip install torchinfo"
   ]
  },
  {
   "cell_type": "code",
   "execution_count": 3,
   "metadata": {},
   "outputs": [],
   "source": [
    "import numpy as np\n",
    "import cv2\n",
    "import matplotlib.pyplot as plt\n",
    "import torch\n",
    "import torch.optim as optim\n",
    "from torch.optim import lr_scheduler\n",
    "from torch.utils.data import DataLoader\n",
    "from dataloader import Dataset\n",
    "from torchinfo import summary\n",
    "import time\n",
    "import copy\n",
    "import pdb\n",
    "from tqdm import tqdm"
   ]
  },
  {
   "cell_type": "code",
   "execution_count": 4,
   "metadata": {},
   "outputs": [],
   "source": [
    "#training parameters in neptune format\n",
    "PARAMS = {\n",
    "    \"input_size\": 416,\n",
    "    \"output_size\": 416,\n",
    "    \"model\": \"vgg_unet\",\n",
    "    \"learning_rate\": 0.0001,\n",
    "    \"batch_size\": 8,\n",
    "    'epochs': 1000,\n",
    "    'patience': 10,\n",
    "    \"train_dataset_size\": -1, # set train dataset subset. Useful when neet to \n",
    "                              # overtrain model with small amount of images.\n",
    "                              # -1 -all images from train directories.\n",
    "    \"test_dataset_size\": -1,  # set test dataset subset.\n",
    "                              # -1 -all images from train directories.\n",
    "    \"n_classes\": 2,\n",
    "    'image_preload': False,\n",
    "}"
   ]
  },
  {
   "cell_type": "code",
   "execution_count": null,
   "metadata": {},
   "outputs": [],
   "source": []
  }
 ],
 "metadata": {
  "kernelspec": {
   "display_name": "Python 3",
   "language": "python",
   "name": "python3"
  },
  "language_info": {
   "codemirror_mode": {
    "name": "ipython",
    "version": 3
   },
   "file_extension": ".py",
   "mimetype": "text/x-python",
   "name": "python",
   "nbconvert_exporter": "python",
   "pygments_lexer": "ipython3",
   "version": "3.8.5"
  }
 },
 "nbformat": 4,
 "nbformat_minor": 4
}
